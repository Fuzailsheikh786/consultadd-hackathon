{
  "nbformat": 4,
  "nbformat_minor": 0,
  "metadata": {
    "colab": {
      "provenance": []
    },
    "kernelspec": {
      "name": "python3",
      "display_name": "Python 3"
    },
    "language_info": {
      "name": "python"
    }
  },
  "cells": [
    {
      "cell_type": "code",
      "execution_count": null,
      "metadata": {
        "id": "267Ki3Be2Vrf"
      },
      "outputs": [],
      "source": [
        "This script is designed to automate legal risk analysis of contract clauses in RFP (Request for Proposal) documents using a combination of NLP models and a compliance agent.\n",
        "It performs the full pipeline: from extracting text from a PDF to filtering relevant legal clauses, assessing risks using an AI agent, and generating a structured PDF report.\n",
        "\n",
        "\n",
        "The main goal is to identify legally important and potentially risky clauses in an RFP document and either:\n",
        "\n",
        "Flag them with a justification and suggest safer rewrites, or\n",
        "\n",
        "Confirm if the clause is compliant, using a Groq-based AI agent.\n",
        "\n",
        "This can save legal teams time and increase accuracy in early-stage contract review.\n",
        "\n"
      ]
    },
    {
      "cell_type": "code",
      "source": [
        "# ✅ Install dependencies (uncomment if running in Colab or local environment)\n",
        "# !pip install PyMuPDF\n",
        "# !pip install load_dotenv\n",
        "# !pip install transformers torch accelerate\n",
        "# !pip install phi\n",
        "#!pip install FPDF\n",
        "\n",
        "import fitz  # PyMuPDF\n",
        "import re\n",
        "import os\n",
        "from phi.agent import Agent\n",
        "from phi.model.groq import Groq\n",
        "from transformers import pipeline, AutoTokenizer, AutoModelForQuestionAnswering\n",
        "from fpdf import FPDF  # to export final output"
      ],
      "metadata": {
        "id": "cl9IYFH73E_I"
      },
      "execution_count": null,
      "outputs": []
    },
    {
      "cell_type": "code",
      "source": [
        "# ✅ Load Groq API key\n",
        "os.environ[\"GROQ_API_KEY\"] = \"your_groq_api_key_here\"  # Replace with your actual key\n",
        "\n",
        "# ✅ Load CUAD model\n",
        "model_name = \"akdeniz27/deberta-v2-xlarge-cuad\"\n",
        "tokenizer = AutoTokenizer.from_pretrained(model_name, use_fast=False)\n",
        "model = AutoModelForQuestionAnswering.from_pretrained(model_name)\n",
        "qa_pipeline = pipeline(\"question-answering\", model=model, tokenizer=tokenizer)"
      ],
      "metadata": {
        "id": "zOWntgWW3QTV"
      },
      "execution_count": null,
      "outputs": []
    },
    {
      "cell_type": "code",
      "source": [
        "# ✅ RFP categories\n",
        "rfp_categories = [\n",
        "    \"Termination for Convenience\", \"Non-Compete\", \"Governing Law\", \"Exclusivity\",\n",
        "    \"Post-Termination Services\", \"Audit Rights\", \"Cap on Liability\", \"Uncapped Liability\",\n",
        "    \"Insurance\", \"Price Restriction\", \"Revenue/Profit Sharing\", \"License Grant\",\n",
        "    \"Irrevocable or Perpetual License\", \"Warranty Duration\", \"Change of Control\",\n",
        "    \"IP Ownership Assignment\", \"Joint IP Ownership\"\n",
        "]"
      ],
      "metadata": {
        "id": "v9nBNsf33T5z"
      },
      "execution_count": null,
      "outputs": []
    },
    {
      "cell_type": "code",
      "source": [
        "# ✅ Smart splitter function\n",
        "def smart_split(text, overlap=0):\n",
        "    text = re.sub(r'\\r\\n|\\r', '\\n', text.strip())\n",
        "    text = re.sub(r'(?<=\\n)(?=\\d+\\.\\s)', '\\n', text)\n",
        "    chunks = re.split(r'(?<=\\n)(?=\\d+\\.\\s)', text)\n",
        "    if overlap > 0:\n",
        "        overlapped_chunks = []\n",
        "        for i in range(len(chunks)):\n",
        "            start = max(0, i - overlap)\n",
        "            combined = \" \".join(chunks[start:i + 1])\n",
        "            overlapped_chunks.append(combined.strip())\n",
        "        return overlapped_chunks\n",
        "    return [chunk.strip() for chunk in chunks if chunk.strip()]"
      ],
      "metadata": {
        "id": "_b2qOQ1e3WLo"
      },
      "execution_count": null,
      "outputs": []
    },
    {
      "cell_type": "code",
      "source": [
        "# ✅ Check legal importance using CUAD model\n",
        "def is_legally_important(clause):\n",
        "    for category in rfp_categories:\n",
        "        response = qa_pipeline({\n",
        "            'question': f\"Does this clause relate to '{category}'?\",\n",
        "            'context': clause\n",
        "        })\n",
        "        if response['score'] > 0.5:\n",
        "            return True\n",
        "    return False"
      ],
      "metadata": {
        "id": "RMqD0LTv3YhG"
      },
      "execution_count": null,
      "outputs": []
    },
    {
      "cell_type": "code",
      "source": [
        "# ✅ Load and extract text from PDF\n",
        "pdf_path = \"e_rpf2.pdf\"\n",
        "doc = fitz.open(pdf_path)\n",
        "full_text = \"\\n\".join([page.get_text() for page in doc])\n",
        "chunks = smart_split(full_text, overlap=1)\n",
        "\n",
        "print(f\"✅ {len(chunks)} total chunks created.\")"
      ],
      "metadata": {
        "id": "UIekwtAb3bWW"
      },
      "execution_count": null,
      "outputs": []
    },
    {
      "cell_type": "code",
      "source": [
        "# ✅ Filter only legally relevant clauses\n",
        "legally_important_chunks = [clause for clause in chunks if is_legally_important(clause)]\n",
        "\n",
        "print(f\"✅ {len(legally_important_chunks)} legally important clauses found.\\n\")"
      ],
      "metadata": {
        "id": "NjqIME3e3eFH"
      },
      "execution_count": null,
      "outputs": []
    },
    {
      "cell_type": "code",
      "source": [
        "# ✅ Create the Risk Analyzing Agent\n",
        "compliant_agent = Agent(\n",
        "    name=\"Risk Analysing Agent\",\n",
        "    model=Groq(id=\"llama-3-70b-8192\"),  # use the correct model id from Groq\n",
        "    instructions=[\n",
        "        \"You are a legal compliance AI agent. Given a contract clause, your responsibilities are:\\n\"\n",
        "        \"1. Assess for legal risks.\\n\"\n",
        "        \"2. If risky, respond with:\\n\"\n",
        "        \"   Justification: <why it is risky>\\n\"\n",
        "        \"   Rewrite: <a safer version>\\n\"\n",
        "        \"3. If compliant, just say:\\n\"\n",
        "        \"   Clause is compliant.\"\n",
        "    ],\n",
        "    markdown=True\n",
        ")\n",
        "\n"
      ],
      "metadata": {
        "id": "I6Z_I_R33gfI"
      },
      "execution_count": null,
      "outputs": []
    },
    {
      "cell_type": "code",
      "source": [
        "\n",
        "# ✅ Analyze and collect responses\n",
        "results = []\n",
        "\n",
        "for i, clause in enumerate(legally_important_chunks):\n",
        "    print(f\"\\n📄 Clause {i+1}/{len(legally_important_chunks)}:\")\n",
        "    response = compliant_agent(clause)\n",
        "    results.append({\n",
        "        \"clause\": clause,\n",
        "        \"response\": response\n",
        "    })\n",
        "    print(response)"
      ],
      "metadata": {
        "id": "-ioNPCLt3j4d"
      },
      "execution_count": null,
      "outputs": []
    },
    {
      "cell_type": "code",
      "source": [
        "# ✅ Export results to PDF\n",
        "pdf = FPDF()\n",
        "pdf.set_auto_page_break(auto=True, margin=15)\n",
        "pdf.add_page()\n",
        "pdf.set_font(\"Arial\", size=12)\n",
        "\n",
        "pdf.cell(200, 10, txt=\"RFP Legal Risk Analysis Report\", ln=True, align='C')\n",
        "pdf.ln(10)\n",
        "\n",
        "for idx, item in enumerate(results):\n",
        "    pdf.set_font(\"Arial\", 'B', 12)\n",
        "    pdf.multi_cell(0, 10, f\"Clause {idx+1}:\", align='L')\n",
        "    pdf.set_font(\"Arial\", '', 11)\n",
        "    pdf.multi_cell(0, 10, item[\"clause\"], align='L')\n",
        "    pdf.ln(2)\n",
        "    pdf.set_text_color(0, 102, 204)\n",
        "    pdf.multi_cell(0, 10, item[\"response\"], align='L')\n",
        "    pdf.set_text_color(0, 0, 0)\n",
        "    pdf.ln(10)\n",
        "\n",
        "output_path = \"rfp_risk_analysis_output.pdf\"\n",
        "pdf.output(output_path)\n",
        "print(f\"\\n✅ PDF Report saved to {output_path}\")"
      ],
      "metadata": {
        "id": "hnOrJVsa3mxm"
      },
      "execution_count": null,
      "outputs": []
    },
    {
      "cell_type": "markdown",
      "source": [],
      "metadata": {
        "id": "T1IcRuIW2WkB"
      }
    },
    {
      "cell_type": "markdown",
      "source": [],
      "metadata": {
        "id": "hyn7CnHS2mcd"
      }
    }
  ]
}